{
 "cells": [
  {
   "cell_type": "markdown",
   "id": "0f4d8dfb-f1ed-40dd-a629-69f3a4d3292d",
   "metadata": {},
   "source": [
    "#### import necessary packages"
   ]
  },
  {
   "cell_type": "code",
   "execution_count": 119,
   "id": "d220fc88-55e4-43ce-8cc5-741372982fcb",
   "metadata": {},
   "outputs": [],
   "source": [
    "from pyDRTtools.runs import simple_run, EIS_object,Bayesian_run,peak_analysis\n",
    "from pyDRTtools.GUI import Figure_Canvas\n",
    "from pyDRTtools import basics, HMC, BHT,GUI\n",
    "from math import sqrt, log\n",
    "import numpy as np\n",
    "from numpy.linalg import norm\n",
    "from numpy import inf, sin, cos, cosh, pi, exp, log10\n",
    "import pandas as pd\n",
    "import pandas as pd\n",
    "import matplotlib.pyplot as plt\n",
    "%matplotlib inline\n",
    "import time"
   ]
  },
  {
   "cell_type": "code",
   "execution_count": 120,
   "id": "022a3e92-a642-46f7-a36c-6a77fddea5e8",
   "metadata": {},
   "outputs": [],
   "source": [
    "plt.rc('text', usetex=True)\n",
    "plt.rc('font', family='serif', size=15)\n",
    "plt.rc('xtick', labelsize=15)\n",
    "plt.rc('ytick', labelsize=15)"
   ]
  },
  {
   "cell_type": "markdown",
   "id": "3cbd6493-c337-4d33-896d-a48ed4e05614",
   "metadata": {},
   "source": [
    "##### load EIS data"
   ]
  },
  {
   "cell_type": "code",
   "execution_count": 121,
   "id": "d87589f2-3b81-4e22-82c8-a5dd7aecd774",
   "metadata": {},
   "outputs": [],
   "source": [
    "data = pd.read_csv('data_1.csv')"
   ]
  },
  {
   "cell_type": "code",
   "execution_count": 122,
   "id": "35a90153-3e68-4eb9-8202-7a487e01ced3",
   "metadata": {},
   "outputs": [
    {
     "data": {
      "text/html": [
       "<div>\n",
       "<style scoped>\n",
       "    .dataframe tbody tr th:only-of-type {\n",
       "        vertical-align: middle;\n",
       "    }\n",
       "\n",
       "    .dataframe tbody tr th {\n",
       "        vertical-align: top;\n",
       "    }\n",
       "\n",
       "    .dataframe thead th {\n",
       "        text-align: right;\n",
       "    }\n",
       "</style>\n",
       "<table border=\"1\" class=\"dataframe\">\n",
       "  <thead>\n",
       "    <tr style=\"text-align: right;\">\n",
       "      <th></th>\n",
       "      <th>Freqs</th>\n",
       "      <th>Real</th>\n",
       "      <th>Imag</th>\n",
       "    </tr>\n",
       "  </thead>\n",
       "  <tbody>\n",
       "    <tr>\n",
       "      <th>0</th>\n",
       "      <td>999.040405</td>\n",
       "      <td>0.109963</td>\n",
       "      <td>0.003570</td>\n",
       "    </tr>\n",
       "    <tr>\n",
       "      <th>1</th>\n",
       "      <td>891.425842</td>\n",
       "      <td>0.110050</td>\n",
       "      <td>0.002942</td>\n",
       "    </tr>\n",
       "    <tr>\n",
       "      <th>2</th>\n",
       "      <td>794.237671</td>\n",
       "      <td>0.110220</td>\n",
       "      <td>0.002333</td>\n",
       "    </tr>\n",
       "    <tr>\n",
       "      <th>3</th>\n",
       "      <td>707.509460</td>\n",
       "      <td>0.110345</td>\n",
       "      <td>0.001810</td>\n",
       "    </tr>\n",
       "    <tr>\n",
       "      <th>4</th>\n",
       "      <td>631.009521</td>\n",
       "      <td>0.110476</td>\n",
       "      <td>0.001296</td>\n",
       "    </tr>\n",
       "    <tr>\n",
       "      <th>...</th>\n",
       "      <td>...</td>\n",
       "      <td>...</td>\n",
       "      <td>...</td>\n",
       "    </tr>\n",
       "    <tr>\n",
       "      <th>102</th>\n",
       "      <td>0.007927</td>\n",
       "      <td>0.140317</td>\n",
       "      <td>-0.017511</td>\n",
       "    </tr>\n",
       "    <tr>\n",
       "      <th>103</th>\n",
       "      <td>0.007064</td>\n",
       "      <td>0.141505</td>\n",
       "      <td>-0.018628</td>\n",
       "    </tr>\n",
       "    <tr>\n",
       "      <th>104</th>\n",
       "      <td>0.006296</td>\n",
       "      <td>0.142820</td>\n",
       "      <td>-0.019765</td>\n",
       "    </tr>\n",
       "    <tr>\n",
       "      <th>105</th>\n",
       "      <td>0.005612</td>\n",
       "      <td>0.143889</td>\n",
       "      <td>-0.020531</td>\n",
       "    </tr>\n",
       "    <tr>\n",
       "      <th>106</th>\n",
       "      <td>0.005001</td>\n",
       "      <td>0.145364</td>\n",
       "      <td>-0.021382</td>\n",
       "    </tr>\n",
       "  </tbody>\n",
       "</table>\n",
       "<p>107 rows × 3 columns</p>\n",
       "</div>"
      ],
      "text/plain": [
       "          Freqs      Real      Imag\n",
       "0    999.040405  0.109963  0.003570\n",
       "1    891.425842  0.110050  0.002942\n",
       "2    794.237671  0.110220  0.002333\n",
       "3    707.509460  0.110345  0.001810\n",
       "4    631.009521  0.110476  0.001296\n",
       "..          ...       ...       ...\n",
       "102    0.007927  0.140317 -0.017511\n",
       "103    0.007064  0.141505 -0.018628\n",
       "104    0.006296  0.142820 -0.019765\n",
       "105    0.005612  0.143889 -0.020531\n",
       "106    0.005001  0.145364 -0.021382\n",
       "\n",
       "[107 rows x 3 columns]"
      ]
     },
     "execution_count": 122,
     "metadata": {},
     "output_type": "execute_result"
    }
   ],
   "source": [
    "data"
   ]
  },
  {
   "cell_type": "code",
   "execution_count": 123,
   "id": "e4896596-a4f5-469b-b509-adde8c1c7bd5",
   "metadata": {},
   "outputs": [],
   "source": [
    "### Extract impedance components"
   ]
  },
  {
   "cell_type": "code",
   "execution_count": 124,
   "id": "cbb89d55-566f-489f-ac38-9fdbf4a6a39b",
   "metadata": {},
   "outputs": [],
   "source": [
    "Zexp = data['Real'].values + 1j*data['Imag'].values\n",
    "freq_vec = data['Freqs'].values"
   ]
  },
  {
   "cell_type": "code",
   "execution_count": 125,
   "id": "9aabfe7c-c240-4002-bc09-a4fbbe198874",
   "metadata": {},
   "outputs": [],
   "source": [
    "Z_prime = np.real(Zexp)\n",
    "Z_double_prime = np.imag(Zexp)\n",
    "freq = freq_vec"
   ]
  },
  {
   "cell_type": "markdown",
   "id": "9739af26-e549-4bbe-93e4-7fe8e352b0b3",
   "metadata": {},
   "source": [
    "#### create the instance of EIS_object"
   ]
  },
  {
   "cell_type": "code",
   "execution_count": 126,
   "id": "3a1f527a-ad9c-45c6-a7ef-aacad17eb017",
   "metadata": {},
   "outputs": [],
   "source": [
    "# Create an instance of EIS_object or load your data\n",
    "eis_data = EIS_object(freq, Z_prime, Z_double_prime)"
   ]
  },
  {
   "cell_type": "markdown",
   "id": "46bceb97-3725-4c1e-9c8f-a12448ea8364",
   "metadata": {},
   "source": [
    "#### analyze EIS spectrum with simple run"
   ]
  },
  {
   "cell_type": "code",
   "execution_count": 127,
   "id": "1135f4ff-5d79-455a-90fc-9f1aed88167b",
   "metadata": {},
   "outputs": [
    {
     "name": "stderr",
     "output_type": "stream",
     "text": [
      "C:\\Users\\user\\anaconda3\\envs\\MYDRT\\lib\\site-packages\\pyDRTtools\\basics.py:59: IntegrationWarning: The integral is probably divergent, or slowly convergent.\n",
      "  out_val = integrate.quad(integrand_g_i, -50, 50, epsabs=1E-9, epsrel=1E-9)\n"
     ]
    },
    {
     "name": "stdout",
     "output_type": "stream",
     "text": [
      "Optimization terminated successfully    (Exit mode 0)\n",
      "            Current function value: 2.9585996637284167e-08\n",
      "            Iterations: 1\n",
      "            Function evaluations: 2\n",
      "            Gradient evaluations: 1\n",
      "GCV\n",
      "===============================================================================\n",
      "                                     CVXPY                                     \n",
      "                                     v1.4.1                                    \n",
      "===============================================================================\n",
      "(CVXPY) Oct 23 05:29:31 AM: Your problem has 109 variables, 1 constraints, and 0 parameters.\n",
      "(CVXPY) Oct 23 05:29:31 AM: It is compliant with the following grammars: DCP, DQCP\n",
      "(CVXPY) Oct 23 05:29:31 AM: (If you need to solve this problem multiple times, but with different data, consider using parameters.)\n",
      "(CVXPY) Oct 23 05:29:31 AM: CVXPY will first compile your problem; then, it will invoke a numerical solver to obtain a solution.\n",
      "(CVXPY) Oct 23 05:29:31 AM: Your problem is compiled with the CPP canonicalization backend.\n",
      "-------------------------------------------------------------------------------\n",
      "                                  Compilation                                  \n",
      "-------------------------------------------------------------------------------\n",
      "(CVXPY) Oct 23 05:29:31 AM: Compiling problem (target solver=OSQP).\n",
      "(CVXPY) Oct 23 05:29:31 AM: Reduction chain: CvxAttr2Constr -> Qp2SymbolicQp -> QpMatrixStuffing -> OSQP\n",
      "(CVXPY) Oct 23 05:29:31 AM: Applying reduction CvxAttr2Constr\n",
      "(CVXPY) Oct 23 05:29:31 AM: Applying reduction Qp2SymbolicQp\n",
      "(CVXPY) Oct 23 05:29:31 AM: Applying reduction QpMatrixStuffing\n",
      "(CVXPY) Oct 23 05:29:31 AM: Applying reduction OSQP\n",
      "(CVXPY) Oct 23 05:29:31 AM: Finished problem compilation (took 1.488e-02 seconds).\n",
      "-------------------------------------------------------------------------------\n",
      "                                Numerical solver                               \n",
      "-------------------------------------------------------------------------------\n",
      "(CVXPY) Oct 23 05:29:31 AM: Invoking solver OSQP  to obtain a solution.\n",
      "-----------------------------------------------------------------\n",
      "           OSQP v0.6.3  -  Operator Splitting QP Solver\n",
      "              (c) Bartolomeo Stellato,  Goran Banjac\n",
      "        University of Oxford  -  Stanford University 2021\n",
      "-----------------------------------------------------------------\n",
      "problem:  variables n = 109, constraints m = 109\n",
      "          nnz(P) + nnz(A) = 6103\n",
      "settings: linear system solver = qdldl,\n",
      "          eps_abs = 1.0e-10, eps_rel = 1.0e-10,\n",
      "          eps_prim_inf = 1.0e-05, eps_dual_inf = 1.0e-05,\n",
      "          rho = 1.00e-01 (adaptive),\n",
      "          sigma = 1.00e-08, alpha = 1.60, max_iter = 200000\n",
      "          check_termination: on (interval 25),\n",
      "          scaling: on, scaled_termination: off\n",
      "          warm start: on, polish: on, time_limit: off\n",
      "\n",
      "iter   objective    pri res    dua res    rho        time\n",
      "   1  -1.1869e+00   3.44e-18   3.96e+01   1.00e-01   1.37e-03s\n",
      " 200  -1.6312e+00   5.18e-10   1.38e-04   1.08e-01   5.19e-03s\n",
      " 400  -1.6312e+00   8.45e-09   5.42e-06   5.88e-03   9.35e-03s\n",
      " 600  -1.6312e+00   5.88e-09   2.06e-06   5.88e-03   1.36e-02s\n",
      " 800  -1.6312e+00   2.71e-09   8.92e-07   5.88e-03   1.72e-02s\n",
      "1000  -1.6312e+00   1.20e-09   3.92e-07   5.88e-03   2.08e-02s\n",
      "1200  -1.6312e+00   5.31e-10   1.73e-07   5.88e-03   2.44e-02s\n",
      "1400  -1.6312e+00   2.34e-10   7.64e-08   5.88e-03   2.86e-02s\n",
      "1600  -1.6312e+00   1.03e-10   3.37e-08   5.88e-03   3.29e-02s\n",
      "1800  -1.6312e+00   4.57e-11   1.49e-08   5.88e-03   3.68e-02s\n",
      "2000  -1.6312e+00   2.02e-11   6.56e-09   5.88e-03   4.00e-02s\n",
      "plsh  -1.6312e+00   1.78e-17   1.77e-10   --------   4.09e-02s\n",
      "\n",
      "status:               solved\n",
      "solution polish:      successful\n",
      "number of iterations: 2000\n",
      "optimal objective:    -1.6312\n",
      "run time:             4.09e-02s\n",
      "optimal rho estimate: 5.67e-03\n",
      "\n",
      "-------------------------------------------------------------------------------\n",
      "                                    Summary                                    \n",
      "-------------------------------------------------------------------------------\n",
      "(CVXPY) Oct 23 05:29:31 AM: Problem status: optimal\n",
      "(CVXPY) Oct 23 05:29:31 AM: Optimal value: -1.631e+00\n",
      "(CVXPY) Oct 23 05:29:31 AM: Compilation took 1.488e-02 seconds\n",
      "(CVXPY) Oct 23 05:29:31 AM: Solver (including time spent in interface) took 4.578e-02 seconds\n"
     ]
    }
   ],
   "source": [
    "# Call the simple_run function\n",
    "entry = simple_run(eis_data)"
   ]
  },
  {
   "cell_type": "markdown",
   "id": "dc092ae9-1722-4522-8335-2bf905142e7f",
   "metadata": {},
   "source": [
    "#### Extract the gamma and tau_vec"
   ]
  },
  {
   "cell_type": "code",
   "execution_count": 128,
   "id": "8d9106a8-2ba5-419e-a603-0f18be2ba868",
   "metadata": {},
   "outputs": [],
   "source": [
    "# Set the results in your EIS_object instance\n",
    "out_tau_vec = entry.out_tau_vec\n",
    "gamma = entry.gamma\n",
    "eis_data.out_tau_vec = out_tau_vec\n",
    "eis_data.gamma = gamma"
   ]
  },
  {
   "cell_type": "markdown",
   "id": "837491e3-092b-4afc-955e-08730c29e910",
   "metadata": {},
   "source": [
    "#### show results"
   ]
  },
  {
   "cell_type": "code",
   "execution_count": 129,
   "id": "c08cc014-f443-47b9-84ec-8a803300c870",
   "metadata": {},
   "outputs": [],
   "source": [
    "# Set the results in your EIS_object instance\n",
    "entry.out_tau_vec = out_tau_vec\n",
    "entry.gamma = gamma\n",
    "entry.method = \"simple\"\n",
    "# Call the DRT_data method with 'simple' mode on the figure_canvas\n",
    "# figure_canvas.DRT_data(entry)"
   ]
  },
  {
   "cell_type": "code",
   "execution_count": 130,
   "id": "1e109a20-4496-4c15-a8e0-cd0ad6fb78ee",
   "metadata": {},
   "outputs": [
    {
     "name": "stdout",
     "output_type": "stream",
     "text": [
      "[<matplotlib.lines.Line2D object at 0x000001ED00BF6280>]\n"
     ]
    },
    {
     "data": {
      "image/png": "[encoded data removed]",
      "text/plain": [
       "<Figure size 640x480 with 1 Axes>"
      ]
     },
     "metadata": {},
     "output_type": "display_data"
    }
   ],
   "source": [
    "print(plt.semilogx(out_tau_vec, gamma, linewidth = 4, color = 'black'))\n",
    "plt.xlim(out_tau_vec.min(), out_tau_vec.max())\n",
    "plt.ylim(0,0.04)\n",
    "plt.ylabel(r'$\\gamma(\\tau)/\\Omega$', fontsize = 20)\n",
    "plt.xlabel(r'$\\tau/\\rm s$', fontsize = 20)\n",
    "plt.show()"
   ]
  },
  {
   "cell_type": "markdown",
   "id": "05953370-f389-4c24-af57-f766b905b3a3",
   "metadata": {},
   "source": [
    "#### Bayesian run"
   ]
  },
  {
   "cell_type": "code",
   "execution_count": 131,
   "id": "eb255169-6d54-41e1-bb5b-389ac6378331",
   "metadata": {},
   "outputs": [
    {
     "name": "stdout",
     "output_type": "stream",
     "text": [
      "Optimization terminated successfully    (Exit mode 0)\n",
      "            Current function value: 2.9585996637284167e-08\n",
      "            Iterations: 1\n",
      "            Function evaluations: 2\n",
      "            Gradient evaluations: 1\n",
      "GCV\n",
      "===============================================================================\n",
      "                                     CVXPY                                     \n",
      "                                     v1.4.1                                    \n",
      "===============================================================================\n",
      "(CVXPY) Oct 23 05:29:33 AM: Your problem has 109 variables, 1 constraints, and 0 parameters.\n",
      "(CVXPY) Oct 23 05:29:33 AM: It is compliant with the following grammars: DCP, DQCP\n",
      "(CVXPY) Oct 23 05:29:33 AM: (If you need to solve this problem multiple times, but with different data, consider using parameters.)\n",
      "(CVXPY) Oct 23 05:29:33 AM: CVXPY will first compile your problem; then, it will invoke a numerical solver to obtain a solution.\n",
      "(CVXPY) Oct 23 05:29:33 AM: Your problem is compiled with the CPP canonicalization backend.\n",
      "-------------------------------------------------------------------------------\n",
      "                                  Compilation                                  \n",
      "-------------------------------------------------------------------------------\n",
      "(CVXPY) Oct 23 05:29:33 AM: Compiling problem (target solver=OSQP).\n",
      "(CVXPY) Oct 23 05:29:33 AM: Reduction chain: CvxAttr2Constr -> Qp2SymbolicQp -> QpMatrixStuffing -> OSQP\n",
      "(CVXPY) Oct 23 05:29:33 AM: Applying reduction CvxAttr2Constr\n",
      "(CVXPY) Oct 23 05:29:33 AM: Applying reduction Qp2SymbolicQp\n",
      "(CVXPY) Oct 23 05:29:33 AM: Applying reduction QpMatrixStuffing\n",
      "(CVXPY) Oct 23 05:29:33 AM: Applying reduction OSQP\n",
      "(CVXPY) Oct 23 05:29:33 AM: Finished problem compilation (took 2.014e-02 seconds).\n",
      "-------------------------------------------------------------------------------\n",
      "                                Numerical solver                               \n",
      "-------------------------------------------------------------------------------\n",
      "(CVXPY) Oct 23 05:29:33 AM: Invoking solver OSQP  to obtain a solution.\n",
      "-----------------------------------------------------------------\n",
      "           OSQP v0.6.3  -  Operator Splitting QP Solver\n",
      "              (c) Bartolomeo Stellato,  Goran Banjac\n",
      "        University of Oxford  -  Stanford University 2021\n",
      "-----------------------------------------------------------------\n",
      "problem:  variables n = 109, constraints m = 109\n",
      "          nnz(P) + nnz(A) = 6103\n",
      "settings: linear system solver = qdldl,\n",
      "          eps_abs = 1.0e-10, eps_rel = 1.0e-10,\n",
      "          eps_prim_inf = 1.0e-05, eps_dual_inf = 1.0e-05,\n",
      "          rho = 1.00e-01 (adaptive),\n",
      "          sigma = 1.00e-08, alpha = 1.60, max_iter = 200000\n",
      "          check_termination: on (interval 25),\n",
      "          scaling: on, scaled_termination: off\n",
      "          warm start: on, polish: on, time_limit: off\n",
      "\n",
      "iter   objective    pri res    dua res    rho        time\n",
      "   1  -1.1869e+00   3.44e-18   3.96e+01   1.00e-01   1.42e-03s\n",
      " 200  -1.6312e+00   5.18e-10   1.38e-04   1.08e-01   5.21e-03s\n",
      " 400  -1.6312e+00   8.45e-09   5.42e-06   5.88e-03   9.44e-03s\n",
      " 600  -1.6312e+00   5.88e-09   2.06e-06   5.88e-03   1.34e-02s\n",
      " 800  -1.6312e+00   2.71e-09   8.92e-07   5.88e-03   1.72e-02s\n",
      "1000  -1.6312e+00   1.20e-09   3.92e-07   5.88e-03   2.15e-02s\n",
      "1200  -1.6312e+00   5.31e-10   1.73e-07   5.88e-03   2.61e-02s\n",
      "1400  -1.6312e+00   2.34e-10   7.64e-08   5.88e-03   3.01e-02s\n",
      "1600  -1.6312e+00   1.03e-10   3.37e-08   5.88e-03   3.47e-02s\n",
      "1800  -1.6312e+00   4.57e-11   1.49e-08   5.88e-03   3.90e-02s\n",
      "2000  -1.6312e+00   2.02e-11   6.56e-09   5.88e-03   4.27e-02s\n",
      "plsh  -1.6312e+00   1.78e-17   1.77e-10   --------   4.37e-02s\n",
      "\n",
      "status:               solved\n",
      "solution polish:      successful\n",
      "number of iterations: 2000\n",
      "optimal objective:    -1.6312\n",
      "run time:             4.37e-02s\n",
      "optimal rho estimate: 5.67e-03\n",
      "\n",
      "-------------------------------------------------------------------------------\n",
      "                                    Summary                                    \n",
      "-------------------------------------------------------------------------------\n",
      "(CVXPY) Oct 23 05:29:33 AM: Problem status: optimal\n",
      "(CVXPY) Oct 23 05:29:33 AM: Optimal value: -1.631e+00\n",
      "(CVXPY) Oct 23 05:29:33 AM: Compilation took 2.014e-02 seconds\n",
      "(CVXPY) Oct 23 05:29:33 AM: Solver (including time spent in interface) took 4.785e-02 seconds\n",
      "Current sample number 1000 / 2000\n",
      "Current sample number 2000 / 2000\n"
     ]
    }
   ],
   "source": [
    "# Call the simple_run function\n",
    "entry = Bayesian_run(eis_data)"
   ]
  },
  {
   "cell_type": "markdown",
   "id": "9d00e853-0ec1-4121-bd7d-dc9caafb628a",
   "metadata": {},
   "source": [
    "#### extract DRT together with credible bands"
   ]
  },
  {
   "cell_type": "markdown",
   "id": "d76d6418-456f-4c72-89f3-8c87d6dd5a4a",
   "metadata": {},
   "source": [
    "##### plot results"
   ]
  },
  {
   "cell_type": "code",
   "execution_count": 132,
   "id": "f74624fa-5b8d-4a13-b56b-c6519058e116",
   "metadata": {},
   "outputs": [],
   "source": [
    "out_tau_vec = entry.out_tau_vec\n",
    "gamma = entry.gamma\n",
    "upper_bnd = entry.upper_bound\n",
    "lower_bnd = entry.lower_bound\n",
    "mean = entry.mean\n",
    "eis_data.out_tau_vec = out_tau_vec\n",
    "eis_data.gamma = gamma"
   ]
  },
  {
   "cell_type": "markdown",
   "id": "14e7850e-2914-4019-84d7-98525b821c0a",
   "metadata": {},
   "source": [
    "#### show result"
   ]
  },
  {
   "cell_type": "code",
   "execution_count": null,
   "id": "867f716c-7636-4dfe-93c3-a77a47ce32a4",
   "metadata": {},
   "outputs": [],
   "source": [
    "plt.fill_between(out_tau_vec, lower_bnd, upper_bnd,  facecolor='lightgrey')\n",
    "plt.semilogx(out_tau_vec, gamma, color='black', label='MAP', linewidth=3)\n",
    "plt.semilogx(out_tau_vec, mean, color='blue', label='mean', linewidth=3)\n",
    "plt.semilogx(out_tau_vec, lower_bnd, color='black')\n",
    "plt.semilogx(out_tau_vec,upper_bnd, color='black')\n",
    "plt.legend(frameon = False, fontsize = 15)\n",
    "plt.ylim(0,0.08)\n",
    "plt.ylabel(r'$\\gamma(\\tau)/\\Omega$', fontsize = 20)\n",
    "plt.xlabel(r'$\\tau/\\rm s$', fontsize = 20)\n",
    "plt.show()"
   ]
  },
  {
   "cell_type": "code",
   "execution_count": null,
   "id": "1dacdd5e-993d-4f4b-8346-f24dda556d28",
   "metadata": {},
   "outputs": [],
   "source": []
  },
  {
   "cell_type": "code",
   "execution_count": null,
   "id": "323f2d70-ca84-46bc-bfec-efe636b52f1b",
   "metadata": {},
   "outputs": [],
   "source": []
  },
  {
   "cell_type": "code",
   "execution_count": null,
   "id": "7e590c7e-c7b1-40ce-a2a6-fa92d78de974",
   "metadata": {},
   "outputs": [],
   "source": []
  },
  {
   "cell_type": "code",
   "execution_count": null,
   "id": "332e99f3-aa2f-4004-b63c-d95e3b7d2c59",
   "metadata": {},
   "outputs": [],
   "source": []
  }
 ],
 "metadata": {
  "kernelspec": {
   "display_name": "Python 3 (ipykernel)",
   "language": "python",
   "name": "python3"
  },
  "language_info": {
   "codemirror_mode": {
    "name": "ipython",
    "version": 3
   },
   "file_extension": ".py",
   "mimetype": "text/x-python",
   "name": "python",
   "nbconvert_exporter": "python",
   "pygments_lexer": "ipython3",
   "version": "3.9.18"
  }
 },
 "nbformat": 4,
 "nbformat_minor": 5
}
