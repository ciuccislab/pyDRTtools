{
 "cells": [
  {
   "cell_type": "markdown",
   "id": "0f4d8dfb-f1ed-40dd-a629-69f3a4d3292d",
   "metadata": {},
   "source": [
    "#### import necessary packages"
   ]
  },
  {
   "cell_type": "code",
   "execution_count": 50,
   "id": "d220fc88-55e4-43ce-8cc5-741372982fcb",
   "metadata": {},
   "outputs": [],
   "source": [
    "from pyDRTtools.runs import simple_run, EIS_object,Bayesian_run,peak_analysis\n",
    "from pyDRTtools.GUI import Figure_Canvas\n",
    "from pyDRTtools import basics, HMC, BHT,GUI\n",
    "from math import sqrt, log\n",
    "import numpy as np\n",
    "from numpy.linalg import norm\n",
    "from numpy import inf, sin, cos, cosh, pi, exp, log10\n",
    "import pandas as pd\n",
    "import pandas as pd\n",
    "import matplotlib.pyplot as plt\n",
    "%matplotlib inline\n",
    "import time"
   ]
  },
  {
   "cell_type": "code",
   "execution_count": 32,
   "id": "022a3e92-a642-46f7-a36c-6a77fddea5e8",
   "metadata": {},
   "outputs": [],
   "source": [
    "plt.rc('text', usetex=True)\n",
    "plt.rc('font', family='serif', size=15)\n",
    "plt.rc('xtick', labelsize=15)\n",
    "plt.rc('ytick', labelsize=15)"
   ]
  },
  {
   "cell_type": "markdown",
   "id": "3cbd6493-c337-4d33-896d-a48ed4e05614",
   "metadata": {},
   "source": [
    "##### load EIS data"
   ]
  },
  {
   "cell_type": "code",
   "execution_count": 33,
   "id": "d87589f2-3b81-4e22-82c8-a5dd7aecd774",
   "metadata": {},
   "outputs": [],
   "source": [
    "data = pd.read_csv('data_1.csv')"
   ]
  },
  {
   "cell_type": "code",
   "execution_count": 34,
   "id": "35a90153-3e68-4eb9-8202-7a487e01ced3",
   "metadata": {},
   "outputs": [
    {
     "data": {
      "text/html": [
       "<div>\n",
       "<style scoped>\n",
       "    .dataframe tbody tr th:only-of-type {\n",
       "        vertical-align: middle;\n",
       "    }\n",
       "\n",
       "    .dataframe tbody tr th {\n",
       "        vertical-align: top;\n",
       "    }\n",
       "\n",
       "    .dataframe thead th {\n",
       "        text-align: right;\n",
       "    }\n",
       "</style>\n",
       "<table border=\"1\" class=\"dataframe\">\n",
       "  <thead>\n",
       "    <tr style=\"text-align: right;\">\n",
       "      <th></th>\n",
       "      <th>Freqs</th>\n",
       "      <th>Real</th>\n",
       "      <th>Imag</th>\n",
       "    </tr>\n",
       "  </thead>\n",
       "  <tbody>\n",
       "    <tr>\n",
       "      <th>0</th>\n",
       "      <td>999.040405</td>\n",
       "      <td>0.109963</td>\n",
       "      <td>0.003570</td>\n",
       "    </tr>\n",
       "    <tr>\n",
       "      <th>1</th>\n",
       "      <td>891.425842</td>\n",
       "      <td>0.110050</td>\n",
       "      <td>0.002942</td>\n",
       "    </tr>\n",
       "    <tr>\n",
       "      <th>2</th>\n",
       "      <td>794.237671</td>\n",
       "      <td>0.110220</td>\n",
       "      <td>0.002333</td>\n",
       "    </tr>\n",
       "    <tr>\n",
       "      <th>3</th>\n",
       "      <td>707.509460</td>\n",
       "      <td>0.110345</td>\n",
       "      <td>0.001810</td>\n",
       "    </tr>\n",
       "    <tr>\n",
       "      <th>4</th>\n",
       "      <td>631.009521</td>\n",
       "      <td>0.110476</td>\n",
       "      <td>0.001296</td>\n",
       "    </tr>\n",
       "    <tr>\n",
       "      <th>...</th>\n",
       "      <td>...</td>\n",
       "      <td>...</td>\n",
       "      <td>...</td>\n",
       "    </tr>\n",
       "    <tr>\n",
       "      <th>102</th>\n",
       "      <td>0.007927</td>\n",
       "      <td>0.140317</td>\n",
       "      <td>-0.017511</td>\n",
       "    </tr>\n",
       "    <tr>\n",
       "      <th>103</th>\n",
       "      <td>0.007064</td>\n",
       "      <td>0.141505</td>\n",
       "      <td>-0.018628</td>\n",
       "    </tr>\n",
       "    <tr>\n",
       "      <th>104</th>\n",
       "      <td>0.006296</td>\n",
       "      <td>0.142820</td>\n",
       "      <td>-0.019765</td>\n",
       "    </tr>\n",
       "    <tr>\n",
       "      <th>105</th>\n",
       "      <td>0.005612</td>\n",
       "      <td>0.143889</td>\n",
       "      <td>-0.020531</td>\n",
       "    </tr>\n",
       "    <tr>\n",
       "      <th>106</th>\n",
       "      <td>0.005001</td>\n",
       "      <td>0.145364</td>\n",
       "      <td>-0.021382</td>\n",
       "    </tr>\n",
       "  </tbody>\n",
       "</table>\n",
       "<p>107 rows × 3 columns</p>\n",
       "</div>"
      ],
      "text/plain": [
       "          Freqs      Real      Imag\n",
       "0    999.040405  0.109963  0.003570\n",
       "1    891.425842  0.110050  0.002942\n",
       "2    794.237671  0.110220  0.002333\n",
       "3    707.509460  0.110345  0.001810\n",
       "4    631.009521  0.110476  0.001296\n",
       "..          ...       ...       ...\n",
       "102    0.007927  0.140317 -0.017511\n",
       "103    0.007064  0.141505 -0.018628\n",
       "104    0.006296  0.142820 -0.019765\n",
       "105    0.005612  0.143889 -0.020531\n",
       "106    0.005001  0.145364 -0.021382\n",
       "\n",
       "[107 rows x 3 columns]"
      ]
     },
     "execution_count": 34,
     "metadata": {},
     "output_type": "execute_result"
    }
   ],
   "source": [
    "data"
   ]
  },
  {
   "cell_type": "code",
   "execution_count": 35,
   "id": "e4896596-a4f5-469b-b509-adde8c1c7bd5",
   "metadata": {},
   "outputs": [],
   "source": [
    "### Extract impedance components"
   ]
  },
  {
   "cell_type": "code",
   "execution_count": 36,
   "id": "cbb89d55-566f-489f-ac38-9fdbf4a6a39b",
   "metadata": {},
   "outputs": [],
   "source": [
    "Zexp = data['Real'].values + 1j*data['Imag'].values\n",
    "freq_vec = data['Freqs'].values"
   ]
  },
  {
   "cell_type": "code",
   "execution_count": 37,
   "id": "9aabfe7c-c240-4002-bc09-a4fbbe198874",
   "metadata": {},
   "outputs": [],
   "source": [
    "Z_prime = np.real(Zexp)\n",
    "Z_double_prime = np.imag(Zexp)\n",
    "freq = freq_vec"
   ]
  },
  {
   "cell_type": "markdown",
   "id": "9739af26-e549-4bbe-93e4-7fe8e352b0b3",
   "metadata": {},
   "source": [
    "#### create the instance of EIS_object"
   ]
  },
  {
   "cell_type": "code",
   "execution_count": 38,
   "id": "3a1f527a-ad9c-45c6-a7ef-aacad17eb017",
   "metadata": {},
   "outputs": [],
   "source": [
    "# Create an instance of EIS_object or load your data\n",
    "eis_data = EIS_object(freq, Z_prime, Z_double_prime)"
   ]
  },
  {
   "cell_type": "markdown",
   "id": "46bceb97-3725-4c1e-9c8f-a12448ea8364",
   "metadata": {},
   "source": [
    "#### analyze EIS spectrum with simple run"
   ]
  },
  {
   "cell_type": "code",
   "execution_count": 40,
   "id": "1135f4ff-5d79-455a-90fc-9f1aed88167b",
   "metadata": {},
   "outputs": [
    {
     "name": "stderr",
     "output_type": "stream",
     "text": [
      "C:\\Users\\user\\anaconda3\\envs\\MYDRT\\lib\\site-packages\\pyDRTtools\\basics.py:59: IntegrationWarning: The integral is probably divergent, or slowly convergent.\n",
      "  out_val = integrate.quad(integrand_g_i, -50, 50, epsabs=1E-9, epsrel=1E-9)\n"
     ]
    },
    {
     "name": "stdout",
     "output_type": "stream",
     "text": [
      "Optimization terminated successfully    (Exit mode 0)\n",
      "            Current function value: 2.9585996637284167e-08\n",
      "            Iterations: 1\n",
      "            Function evaluations: 2\n",
      "            Gradient evaluations: 1\n",
      "GCV\n",
      "===============================================================================\n",
      "                                     CVXPY                                     \n",
      "                                     v1.4.1                                    \n",
      "===============================================================================\n",
      "(CVXPY) Oct 23 03:55:19 AM: Your problem has 109 variables, 1 constraints, and 0 parameters.\n",
      "(CVXPY) Oct 23 03:55:19 AM: It is compliant with the following grammars: DCP, DQCP\n",
      "(CVXPY) Oct 23 03:55:19 AM: (If you need to solve this problem multiple times, but with different data, consider using parameters.)\n",
      "(CVXPY) Oct 23 03:55:19 AM: CVXPY will first compile your problem; then, it will invoke a numerical solver to obtain a solution.\n",
      "(CVXPY) Oct 23 03:55:19 AM: Your problem is compiled with the CPP canonicalization backend.\n",
      "-------------------------------------------------------------------------------\n",
      "                                  Compilation                                  \n",
      "-------------------------------------------------------------------------------\n",
      "(CVXPY) Oct 23 03:55:19 AM: Compiling problem (target solver=OSQP).\n",
      "(CVXPY) Oct 23 03:55:19 AM: Reduction chain: CvxAttr2Constr -> Qp2SymbolicQp -> QpMatrixStuffing -> OSQP\n",
      "(CVXPY) Oct 23 03:55:19 AM: Applying reduction CvxAttr2Constr\n",
      "(CVXPY) Oct 23 03:55:19 AM: Applying reduction Qp2SymbolicQp\n",
      "(CVXPY) Oct 23 03:55:19 AM: Applying reduction QpMatrixStuffing\n",
      "(CVXPY) Oct 23 03:55:19 AM: Applying reduction OSQP\n",
      "(CVXPY) Oct 23 03:55:19 AM: Finished problem compilation (took 1.500e-02 seconds).\n",
      "-------------------------------------------------------------------------------\n",
      "                                Numerical solver                               \n",
      "-------------------------------------------------------------------------------\n",
      "(CVXPY) Oct 23 03:55:19 AM: Invoking solver OSQP  to obtain a solution.\n",
      "-----------------------------------------------------------------\n",
      "           OSQP v0.6.3  -  Operator Splitting QP Solver\n",
      "              (c) Bartolomeo Stellato,  Goran Banjac\n",
      "        University of Oxford  -  Stanford University 2021\n",
      "-----------------------------------------------------------------\n",
      "problem:  variables n = 109, constraints m = 109\n",
      "          nnz(P) + nnz(A) = 6103\n",
      "settings: linear system solver = qdldl,\n",
      "          eps_abs = 1.0e-10, eps_rel = 1.0e-10,\n",
      "          eps_prim_inf = 1.0e-05, eps_dual_inf = 1.0e-05,\n",
      "          rho = 1.00e-01 (adaptive),\n",
      "          sigma = 1.00e-08, alpha = 1.60, max_iter = 200000\n",
      "          check_termination: on (interval 25),\n",
      "          scaling: on, scaled_termination: off\n",
      "          warm start: on, polish: on, time_limit: off\n",
      "\n",
      "iter   objective    pri res    dua res    rho        time\n",
      "   1  -1.1869e+00   3.44e-18   3.96e+01   1.00e-01   1.14e-03s\n",
      " 200  -1.6312e+00   5.18e-10   1.38e-04   1.08e-01   5.32e-03s\n",
      " 400  -1.6312e+00   8.45e-09   5.42e-06   5.88e-03   9.48e-03s\n",
      " 600  -1.6312e+00   5.88e-09   2.06e-06   5.88e-03   1.38e-02s\n",
      " 800  -1.6312e+00   2.71e-09   8.92e-07   5.88e-03   1.81e-02s\n",
      "1000  -1.6312e+00   1.20e-09   3.92e-07   5.88e-03   2.18e-02s\n",
      "1200  -1.6312e+00   5.31e-10   1.73e-07   5.88e-03   2.57e-02s\n",
      "1400  -1.6312e+00   2.34e-10   7.64e-08   5.88e-03   3.00e-02s\n",
      "1600  -1.6312e+00   1.03e-10   3.37e-08   5.88e-03   3.40e-02s\n",
      "1800  -1.6312e+00   4.57e-11   1.49e-08   5.88e-03   3.79e-02s\n",
      "2000  -1.6312e+00   2.02e-11   6.56e-09   5.88e-03   4.19e-02s\n",
      "plsh  -1.6312e+00   1.78e-17   1.77e-10   --------   4.26e-02s\n",
      "\n",
      "status:               solved\n",
      "solution polish:      successful\n",
      "number of iterations: 2000\n",
      "optimal objective:    -1.6312\n",
      "run time:             4.26e-02s\n",
      "optimal rho estimate: 5.67e-03\n",
      "\n",
      "-------------------------------------------------------------------------------\n",
      "                                    Summary                                    \n",
      "-------------------------------------------------------------------------------\n",
      "(CVXPY) Oct 23 03:55:19 AM: Problem status: optimal\n",
      "(CVXPY) Oct 23 03:55:19 AM: Optimal value: -1.631e+00\n",
      "(CVXPY) Oct 23 03:55:19 AM: Compilation took 1.500e-02 seconds\n",
      "(CVXPY) Oct 23 03:55:19 AM: Solver (including time spent in interface) took 4.413e-02 seconds\n"
     ]
    }
   ],
   "source": [
    "# Call the simple_run function\n",
    "entry = simple_run(eis_data)"
   ]
  },
  {
   "cell_type": "markdown",
   "id": "dc092ae9-1722-4522-8335-2bf905142e7f",
   "metadata": {},
   "source": [
    "#### Extract the gamma and tau_vec"
   ]
  },
  {
   "cell_type": "code",
   "execution_count": 41,
   "id": "8d9106a8-2ba5-419e-a603-0f18be2ba868",
   "metadata": {},
   "outputs": [],
   "source": [
    "# Set the results in your EIS_object instance\n",
    "out_tau_vec = entry.out_tau_vec\n",
    "gamma = entry.gamma\n",
    "eis_data.out_tau_vec = out_tau_vec\n",
    "eis_data.gamma = gamma"
   ]
  },
  {
   "cell_type": "markdown",
   "id": "837491e3-092b-4afc-955e-08730c29e910",
   "metadata": {},
   "source": [
    "#### show results"
   ]
  },
  {
   "cell_type": "code",
   "execution_count": 42,
   "id": "c08cc014-f443-47b9-84ec-8a803300c870",
   "metadata": {},
   "outputs": [],
   "source": [
    "# Set the results in your EIS_object instance\n",
    "entry.out_tau_vec = out_tau_vec\n",
    "entry.gamma = gamma\n",
    "entry.method = \"simple\"\n",
    "# Call the DRT_data method with 'simple' mode on the figure_canvas\n",
    "# figure_canvas.DRT_data(entry)"
   ]
  },
  {
   "cell_type": "code",
   "execution_count": 43,
   "id": "1e109a20-4496-4c15-a8e0-cd0ad6fb78ee",
   "metadata": {},
   "outputs": [
    {
     "name": "stdout",
     "output_type": "stream",
     "text": [
      "[<matplotlib.lines.Line2D object at 0x000001ED00D84490>]\n"
     ]
    },
    {
     "data": {
      "image/png": "[encoded data removed]",
      "text/plain": [
       "<Figure size 640x480 with 1 Axes>"
      ]
     },
     "metadata": {},
     "output_type": "display_data"
    }
   ],
   "source": [
    "print(plt.semilogx(out_tau_vec, gamma, linewidth = 4, color = 'black'))\n",
    "plt.xlim(out_tau_vec.min(), out_tau_vec.max())\n",
    "plt.ylim(0,0.04)\n",
    "plt.ylabel(r'$\\gamma(\\tau)/\\Omega$', fontsize = 20)\n",
    "plt.xlabel(r'$\\tau/\\rm s$', fontsize = 20)\n",
    "plt.show()"
   ]
  },
  {
   "cell_type": "markdown",
   "id": "05953370-f389-4c24-af57-f766b905b3a3",
   "metadata": {},
   "source": [
    "#### Bayesian run"
   ]
  },
  {
   "cell_type": "code",
   "execution_count": 45,
   "id": "eb255169-6d54-41e1-bb5b-389ac6378331",
   "metadata": {},
   "outputs": [
    {
     "name": "stdout",
     "output_type": "stream",
     "text": [
      "Optimization terminated successfully    (Exit mode 0)\n",
      "            Current function value: 2.9585996637284167e-08\n",
      "            Iterations: 1\n",
      "            Function evaluations: 2\n",
      "            Gradient evaluations: 1\n",
      "GCV\n",
      "===============================================================================\n",
      "                                     CVXPY                                     \n",
      "                                     v1.4.1                                    \n",
      "===============================================================================\n",
      "(CVXPY) Oct 23 03:56:26 AM: Your problem has 109 variables, 1 constraints, and 0 parameters.\n",
      "(CVXPY) Oct 23 03:56:26 AM: It is compliant with the following grammars: DCP, DQCP\n",
      "(CVXPY) Oct 23 03:56:26 AM: (If you need to solve this problem multiple times, but with different data, consider using parameters.)\n",
      "(CVXPY) Oct 23 03:56:26 AM: CVXPY will first compile your problem; then, it will invoke a numerical solver to obtain a solution.\n",
      "(CVXPY) Oct 23 03:56:26 AM: Your problem is compiled with the CPP canonicalization backend.\n",
      "-------------------------------------------------------------------------------\n",
      "                                  Compilation                                  \n",
      "-------------------------------------------------------------------------------\n",
      "(CVXPY) Oct 23 03:56:26 AM: Compiling problem (target solver=OSQP).\n",
      "(CVXPY) Oct 23 03:56:26 AM: Reduction chain: CvxAttr2Constr -> Qp2SymbolicQp -> QpMatrixStuffing -> OSQP\n",
      "(CVXPY) Oct 23 03:56:26 AM: Applying reduction CvxAttr2Constr\n",
      "(CVXPY) Oct 23 03:56:26 AM: Applying reduction Qp2SymbolicQp\n",
      "(CVXPY) Oct 23 03:56:26 AM: Applying reduction QpMatrixStuffing\n",
      "(CVXPY) Oct 23 03:56:26 AM: Applying reduction OSQP\n",
      "(CVXPY) Oct 23 03:56:26 AM: Finished problem compilation (took 1.529e-02 seconds).\n",
      "-------------------------------------------------------------------------------\n",
      "                                Numerical solver                               \n",
      "-------------------------------------------------------------------------------\n",
      "(CVXPY) Oct 23 03:56:26 AM: Invoking solver OSQP  to obtain a solution.\n",
      "-----------------------------------------------------------------\n",
      "           OSQP v0.6.3  -  Operator Splitting QP Solver\n",
      "              (c) Bartolomeo Stellato,  Goran Banjac\n",
      "        University of Oxford  -  Stanford University 2021\n",
      "-----------------------------------------------------------------\n",
      "problem:  variables n = 109, constraints m = 109\n",
      "          nnz(P) + nnz(A) = 6103\n",
      "settings: linear system solver = qdldl,\n",
      "          eps_abs = 1.0e-10, eps_rel = 1.0e-10,\n",
      "          eps_prim_inf = 1.0e-05, eps_dual_inf = 1.0e-05,\n",
      "          rho = 1.00e-01 (adaptive),\n",
      "          sigma = 1.00e-08, alpha = 1.60, max_iter = 200000\n",
      "          check_termination: on (interval 25),\n",
      "          scaling: on, scaled_termination: off\n",
      "          warm start: on, polish: on, time_limit: off\n",
      "\n",
      "iter   objective    pri res    dua res    rho        time\n",
      "   1  -1.1869e+00   3.44e-18   3.96e+01   1.00e-01   1.13e-03s\n",
      " 200  -1.6312e+00   5.18e-10   1.38e-04   1.08e-01   5.37e-03s\n",
      " 400  -1.6312e+00   8.45e-09   5.42e-06   5.88e-03   9.97e-03s\n",
      " 600  -1.6312e+00   5.88e-09   2.06e-06   5.88e-03   1.46e-02s\n",
      " 800  -1.6312e+00   2.71e-09   8.92e-07   5.88e-03   1.85e-02s\n",
      "1000  -1.6312e+00   1.20e-09   3.92e-07   5.88e-03   2.23e-02s\n",
      "1200  -1.6312e+00   5.31e-10   1.73e-07   5.88e-03   2.57e-02s\n",
      "1400  -1.6312e+00   2.34e-10   7.64e-08   5.88e-03   2.89e-02s\n",
      "1600  -1.6312e+00   1.03e-10   3.37e-08   5.88e-03   3.25e-02s\n",
      "1800  -1.6312e+00   4.57e-11   1.49e-08   5.88e-03   3.60e-02s\n",
      "2000  -1.6312e+00   2.02e-11   6.56e-09   5.88e-03   3.99e-02s\n",
      "plsh  -1.6312e+00   1.78e-17   1.77e-10   --------   4.06e-02s\n",
      "\n",
      "status:               solved\n",
      "solution polish:      successful\n",
      "number of iterations: 2000\n",
      "optimal objective:    -1.6312\n",
      "run time:             4.06e-02s\n",
      "optimal rho estimate: 5.67e-03\n",
      "\n",
      "-------------------------------------------------------------------------------\n",
      "                                    Summary                                    \n",
      "-------------------------------------------------------------------------------\n",
      "(CVXPY) Oct 23 03:56:26 AM: Problem status: optimal\n",
      "(CVXPY) Oct 23 03:56:26 AM: Optimal value: -1.631e+00\n",
      "(CVXPY) Oct 23 03:56:26 AM: Compilation took 1.529e-02 seconds\n",
      "(CVXPY) Oct 23 03:56:26 AM: Solver (including time spent in interface) took 4.321e-02 seconds\n",
      "Current sample number 1000 / 2000\n",
      "Current sample number 2000 / 2000\n"
     ]
    }
   ],
   "source": [
    "# Call the simple_run function\n",
    "entry = Bayesian_run(eis_data)"
   ]
  },
  {
   "cell_type": "markdown",
   "id": "9d00e853-0ec1-4121-bd7d-dc9caafb628a",
   "metadata": {},
   "source": [
    "#### extract DRT together with credible bands"
   ]
  },
  {
   "cell_type": "code",
   "execution_count": null,
   "id": "a6048e71-22b8-4843-b307-54d4fafe537a",
   "metadata": {},
   "outputs": [],
   "source": []
  },
  {
   "cell_type": "markdown",
   "id": "d76d6418-456f-4c72-89f3-8c87d6dd5a4a",
   "metadata": {},
   "source": [
    "##### plot results"
   ]
  },
  {
   "cell_type": "code",
   "execution_count": 46,
   "id": "f74624fa-5b8d-4a13-b56b-c6519058e116",
   "metadata": {},
   "outputs": [],
   "source": [
    "out_tau_vec = entry.out_tau_vec\n",
    "gamma = entry.gamma\n",
    "upper_bnd = entry.upper_bound\n",
    "lower_bnd = entry.lower_bound\n",
    "mean = entry.mean\n",
    "eis_data.out_tau_vec = out_tau_vec\n",
    "eis_data.gamma = gamma"
   ]
  },
  {
   "cell_type": "markdown",
   "id": "14e7850e-2914-4019-84d7-98525b821c0a",
   "metadata": {},
   "source": [
    "#### show result"
   ]
  },
  {
   "cell_type": "code",
   "execution_count": 47,
   "id": "867f716c-7636-4dfe-93c3-a77a47ce32a4",
   "metadata": {},
   "outputs": [
    {
     "data": {
      "image/png": "[encoded data removed]",
      "text/plain": [
       "<Figure size 640x480 with 1 Axes>"
      ]
     },
     "metadata": {},
     "output_type": "display_data"
    }
   ],
   "source": [
    "plt.fill_between(out_tau_vec, lower_bnd, upper_bnd,  facecolor='lightgrey')\n",
    "plt.semilogx(out_tau_vec, gamma, color='black', label='MAP', linewidth=3)\n",
    "plt.semilogx(out_tau_vec, mean, color='blue', label='mean', linewidth=3)\n",
    "plt.semilogx(out_tau_vec, lower_bnd, color='black')\n",
    "plt.semilogx(out_tau_vec,upper_bnd, color='black')\n",
    "plt.legend(frameon = False, fontsize = 15)\n",
    "plt.ylim(0,0.08)\n",
    "plt.ylabel(r'$\\gamma(\\tau)/\\Omega$', fontsize = 20)\n",
    "plt.xlabel(r'$\\tau/\\rm s$', fontsize = 20)\n",
    "plt.show()"
   ]
  },
  {
   "cell_type": "markdown",
   "id": "cc06cd5d-ff47-494b-b93d-e985f865cdd1",
   "metadata": {},
   "source": [
    "#### Peak deconvolution"
   ]
  },
  {
   "cell_type": "code",
   "execution_count": 118,
   "id": "628a3e73-d43e-49a3-a57e-ff1cef8b167a",
   "metadata": {},
   "outputs": [
    {
     "ename": "ImportError",
     "evalue": "cannot import name 'peak_analysis_run_callback' from 'pyDRTtools.GUI' (C:\\Users\\user\\anaconda3\\envs\\MYDRT\\lib\\site-packages\\pyDRTtools\\GUI.py)",
     "output_type": "error",
     "traceback": [
      "\u001b[1;31m---------------------------------------------------------------------------\u001b[0m",
      "\u001b[1;31mImportError\u001b[0m                               Traceback (most recent call last)",
      "Cell \u001b[1;32mIn[118], line 1\u001b[0m\n\u001b[1;32m----> 1\u001b[0m \u001b[38;5;28;01mfrom\u001b[39;00m \u001b[38;5;21;01mpyDRTtools\u001b[39;00m\u001b[38;5;21;01m.\u001b[39;00m\u001b[38;5;21;01mGUI\u001b[39;00m \u001b[38;5;28;01mimport\u001b[39;00m peak_analysis_run_callback\n",
      "\u001b[1;31mImportError\u001b[0m: cannot import name 'peak_analysis_run_callback' from 'pyDRTtools.GUI' (C:\\Users\\user\\anaconda3\\envs\\MYDRT\\lib\\site-packages\\pyDRTtools\\GUI.py)"
     ]
    }
   ],
   "source": [
    "from pyDRTtools.GUI import peak_analysis_run_callback"
   ]
  },
  {
   "cell_type": "code",
   "execution_count": null,
   "id": "9d99bb40-c37f-4117-a90f-756937c2dea3",
   "metadata": {},
   "outputs": [],
   "source": []
  },
  {
   "cell_type": "code",
   "execution_count": 72,
   "id": "a04a0f21-9346-48a3-abac-da577aa4a541",
   "metadata": {},
   "outputs": [],
   "source": [
    "eis_data = EIS_object(freq, Z_prime, Z_double_prime)"
   ]
  },
  {
   "cell_type": "code",
   "execution_count": 90,
   "id": "daff5c2a-c2b9-4a03-8560-ccdf893e52fe",
   "metadata": {},
   "outputs": [],
   "source": [
    "entry.method = \"peak\"  # Assuming you want to run the 'BHT' method\n",
    "entry.der_used = '2nd order'  #\n",
    "entry.peak_method = 'combine'\n",
    "entry.N_peaks = 8"
   ]
  },
  {
   "cell_type": "code",
   "execution_count": 91,
   "id": "199ca345-0ed2-47c3-a8f9-392cb4c32975",
   "metadata": {},
   "outputs": [
    {
     "name": "stdout",
     "output_type": "stream",
     "text": [
      "Optimization terminated successfully    (Exit mode 0)\n",
      "            Current function value: 2.9585996637284167e-08\n",
      "            Iterations: 1\n",
      "            Function evaluations: 2\n",
      "            Gradient evaluations: 1\n",
      "GCV\n",
      "===============================================================================\n",
      "                                     CVXPY                                     \n",
      "                                     v1.4.1                                    \n",
      "===============================================================================\n",
      "(CVXPY) Oct 23 04:31:15 AM: Your problem has 109 variables, 1 constraints, and 0 parameters.\n",
      "(CVXPY) Oct 23 04:31:15 AM: It is compliant with the following grammars: DCP, DQCP\n",
      "(CVXPY) Oct 23 04:31:15 AM: (If you need to solve this problem multiple times, but with different data, consider using parameters.)\n",
      "(CVXPY) Oct 23 04:31:15 AM: CVXPY will first compile your problem; then, it will invoke a numerical solver to obtain a solution.\n",
      "(CVXPY) Oct 23 04:31:15 AM: Your problem is compiled with the CPP canonicalization backend.\n",
      "-------------------------------------------------------------------------------\n",
      "                                  Compilation                                  \n",
      "-------------------------------------------------------------------------------\n",
      "(CVXPY) Oct 23 04:31:15 AM: Compiling problem (target solver=OSQP).\n",
      "(CVXPY) Oct 23 04:31:15 AM: Reduction chain: CvxAttr2Constr -> Qp2SymbolicQp -> QpMatrixStuffing -> OSQP\n",
      "(CVXPY) Oct 23 04:31:15 AM: Applying reduction CvxAttr2Constr\n",
      "(CVXPY) Oct 23 04:31:15 AM: Applying reduction Qp2SymbolicQp\n",
      "(CVXPY) Oct 23 04:31:15 AM: Applying reduction QpMatrixStuffing\n",
      "(CVXPY) Oct 23 04:31:15 AM: Applying reduction OSQP\n",
      "(CVXPY) Oct 23 04:31:15 AM: Finished problem compilation (took 1.401e-02 seconds).\n",
      "-------------------------------------------------------------------------------\n",
      "                                Numerical solver                               \n",
      "-------------------------------------------------------------------------------\n",
      "(CVXPY) Oct 23 04:31:15 AM: Invoking solver OSQP  to obtain a solution.\n",
      "-----------------------------------------------------------------\n",
      "           OSQP v0.6.3  -  Operator Splitting QP Solver\n",
      "              (c) Bartolomeo Stellato,  Goran Banjac\n",
      "        University of Oxford  -  Stanford University 2021\n",
      "-----------------------------------------------------------------\n",
      "problem:  variables n = 109, constraints m = 109\n",
      "          nnz(P) + nnz(A) = 6103\n",
      "settings: linear system solver = qdldl,\n",
      "          eps_abs = 1.0e-10, eps_rel = 1.0e-10,\n",
      "          eps_prim_inf = 1.0e-05, eps_dual_inf = 1.0e-05,\n",
      "          rho = 1.00e-01 (adaptive),\n",
      "          sigma = 1.00e-08, alpha = 1.60, max_iter = 200000\n",
      "          check_termination: on (interval 25),\n",
      "          scaling: on, scaled_termination: off\n",
      "          warm start: on, polish: on, time_limit: off\n",
      "\n",
      "iter   objective    pri res    dua res    rho        time\n",
      "   1  -1.1869e+00   3.44e-18   3.96e+01   1.00e-01   1.30e-03s\n",
      " 200  -1.6312e+00   5.18e-10   1.38e-04   1.08e-01   6.41e-03s\n",
      " 400  -1.6312e+00   8.45e-09   5.42e-06   5.88e-03   1.14e-02s\n",
      " 600  -1.6312e+00   5.88e-09   2.06e-06   5.88e-03   1.47e-02s\n",
      " 800  -1.6312e+00   2.71e-09   8.92e-07   5.88e-03   1.79e-02s\n",
      "1000  -1.6312e+00   1.20e-09   3.92e-07   5.88e-03   2.17e-02s\n",
      "1200  -1.6312e+00   5.31e-10   1.73e-07   5.88e-03   2.56e-02s\n",
      "1400  -1.6312e+00   2.34e-10   7.64e-08   5.88e-03   2.98e-02s\n",
      "1600  -1.6312e+00   1.03e-10   3.37e-08   5.88e-03   3.37e-02s\n",
      "1800  -1.6312e+00   4.57e-11   1.49e-08   5.88e-03   3.78e-02s\n",
      "2000  -1.6312e+00   2.02e-11   6.56e-09   5.88e-03   4.17e-02s\n",
      "plsh  -1.6312e+00   1.78e-17   1.77e-10   --------   4.22e-02s\n",
      "\n",
      "status:               solved\n",
      "solution polish:      successful\n",
      "number of iterations: 2000\n",
      "optimal objective:    -1.6312\n",
      "run time:             4.22e-02s\n",
      "optimal rho estimate: 5.67e-03\n",
      "\n",
      "-------------------------------------------------------------------------------\n",
      "                                    Summary                                    \n",
      "-------------------------------------------------------------------------------\n",
      "(CVXPY) Oct 23 04:31:15 AM: Problem status: optimal\n",
      "(CVXPY) Oct 23 04:31:15 AM: Optimal value: -1.631e+00\n",
      "(CVXPY) Oct 23 04:31:15 AM: Compilation took 1.401e-02 seconds\n",
      "(CVXPY) Oct 23 04:31:15 AM: Solver (including time spent in interface) took 4.398e-02 seconds\n"
     ]
    }
   ],
   "source": [
    "entry = peak_analysis(eis_data)"
   ]
  },
  {
   "cell_type": "markdown",
   "id": "8951b4b7-4997-457e-8b6d-0b5594e5254f",
   "metadata": {},
   "source": [
    "#### extract DRT and separate Gaussian fit"
   ]
  },
  {
   "cell_type": "code",
   "execution_count": 92,
   "id": "de32e34a-4895-4cb3-a98a-527b49daecc9",
   "metadata": {},
   "outputs": [],
   "source": [
    "out_tau_vec = entry.out_tau_vec\n",
    "gamma = entry.gamma\n",
    "gamma_fit = entry.out_gamma_fit\n",
    "N_peaks = entry.N_peaks "
   ]
  },
  {
   "cell_type": "code",
   "execution_count": 93,
   "id": "f5e0bee8-1531-4445-8db2-befb95fae5e3",
   "metadata": {},
   "outputs": [
    {
     "data": {
      "text/plain": [
       "1"
      ]
     },
     "execution_count": 93,
     "metadata": {},
     "output_type": "execute_result"
    }
   ],
   "source": [
    "N_peaks"
   ]
  },
  {
   "cell_type": "markdown",
   "id": "d26c6135-ef99-48f5-a015-c5ed43bdb16b",
   "metadata": {},
   "source": [
    "#### plot the result"
   ]
  },
  {
   "cell_type": "code",
   "execution_count": 84,
   "id": "8f497cdf-2a08-4336-9dd6-35a394994d22",
   "metadata": {},
   "outputs": [
    {
     "ename": "IndexError",
     "evalue": "list index out of range",
     "output_type": "error",
     "traceback": [
      "\u001b[1;31m---------------------------------------------------------------------------\u001b[0m",
      "\u001b[1;31mIndexError\u001b[0m                                Traceback (most recent call last)",
      "Cell \u001b[1;32mIn[84], line 4\u001b[0m\n\u001b[0;32m      2\u001b[0m color \u001b[38;5;241m=\u001b[39m [\u001b[38;5;124m'\u001b[39m\u001b[38;5;124mred\u001b[39m\u001b[38;5;124m'\u001b[39m, \u001b[38;5;124m'\u001b[39m\u001b[38;5;124mgreen\u001b[39m\u001b[38;5;124m'\u001b[39m, \u001b[38;5;124m'\u001b[39m\u001b[38;5;124mcyan\u001b[39m\u001b[38;5;124m'\u001b[39m, \u001b[38;5;124m'\u001b[39m\u001b[38;5;124myellow\u001b[39m\u001b[38;5;124m'\u001b[39m, \u001b[38;5;124m'\u001b[39m\u001b[38;5;124morange\u001b[39m\u001b[38;5;124m'\u001b[39m, \u001b[38;5;124m'\u001b[39m\u001b[38;5;124mblue\u001b[39m\u001b[38;5;124m'\u001b[39m, \u001b[38;5;124m'\u001b[39m\u001b[38;5;124mgrey\u001b[39m\u001b[38;5;124m'\u001b[39m, \u001b[38;5;124m'\u001b[39m\u001b[38;5;124mbrown\u001b[39m\u001b[38;5;124m'\u001b[39m, \u001b[38;5;124m'\u001b[39m\u001b[38;5;124mcoral\u001b[39m\u001b[38;5;124m'\u001b[39m, \u001b[38;5;124m'\u001b[39m\u001b[38;5;124mdarkblue\u001b[39m\u001b[38;5;124m'\u001b[39m, \u001b[38;5;124m'\u001b[39m\u001b[38;5;124mdarkgreen\u001b[39m\u001b[38;5;124m'\u001b[39m, \u001b[38;5;124m'\u001b[39m\u001b[38;5;124mgold\u001b[39m\u001b[38;5;124m'\u001b[39m]\n\u001b[0;32m      3\u001b[0m \u001b[38;5;28;01mfor\u001b[39;00m k \u001b[38;5;129;01min\u001b[39;00m \u001b[38;5;28mrange\u001b[39m(N_peaks):\n\u001b[1;32m----> 4\u001b[0m     plt\u001b[38;5;241m.\u001b[39msemilogx(out_tau_vec, \u001b[43mgamma_fit\u001b[49m\u001b[43m[\u001b[49m\u001b[43mk\u001b[49m\u001b[43m]\u001b[49m, color\u001b[38;5;241m=\u001b[39mcolor[k], linewidth\u001b[38;5;241m=\u001b[39m\u001b[38;5;241m3\u001b[39m)\n",
      "\u001b[1;31mIndexError\u001b[0m: list index out of range"
     ]
    },
    {
     "data": {
      "image/png": "[encoded data removed]",
      "text/plain": [
       "<Figure size 640x480 with 1 Axes>"
      ]
     },
     "metadata": {},
     "output_type": "display_data"
    }
   ],
   "source": [
    "plt.semilogx(entry.out_tau_vec, entry.gamma, color='black', linewidth=3)\n",
    "color = ['red', 'green', 'cyan', 'yellow', 'orange', 'blue', 'grey', 'brown', 'coral', 'darkblue', 'darkgreen', 'gold']\n",
    "for k in range(N_peaks):\n",
    "    plt.semilogx(out_tau_vec, gamma_fit[k], color=color[k], linewidth=3)"
   ]
  },
  {
   "cell_type": "code",
   "execution_count": null,
   "id": "f981acb5-baf5-4e9e-986f-ea1c6305cdb7",
   "metadata": {},
   "outputs": [],
   "source": []
  },
  {
   "cell_type": "code",
   "execution_count": null,
   "id": "579e68bd-9f02-4c71-a21d-7f7602034dd7",
   "metadata": {},
   "outputs": [],
   "source": [
    "elif entry.method == 'peak':\n",
    "            \n",
    "            self.axes.semilogx(entry.out_tau_vec, entry.gamma, color='black', linewidth=3)\n",
    "            color = ['red', 'green', 'cyan', 'yellow', 'orange', 'blue', 'grey', 'brown', 'coral', 'darkblue', 'darkgreen', 'gold']\n",
    "            \n",
    "            if len(entry.out_gamma_fit)==entry.N_peaks: # separate fit of the peaks\n",
    "                for i in range(entry.N_peaks):\n",
    "                    self.axes.semilogx(entry.out_tau_vec, entry.out_gamma_fit[i], color=color[i], linewidth=3)\n",
    "            \n",
    "            else: # combine fit of the DRT peaks\n",
    "                self.axes.semilogx(entry.out_tau_vec, entry.out_gamma_fit, color = 'green', linewidth=3)\n",
    "            y_min = 0\n",
    "            y_max = max(entry.gamma)"
   ]
  },
  {
   "cell_type": "code",
   "execution_count": null,
   "id": "4998d776-47d2-4df5-b583-9c5329a7cc05",
   "metadata": {},
   "outputs": [],
   "source": []
  },
  {
   "cell_type": "code",
   "execution_count": null,
   "id": "8406545e-9658-48f7-890e-7ff76c4981a8",
   "metadata": {},
   "outputs": [],
   "source": []
  },
  {
   "cell_type": "code",
   "execution_count": null,
   "id": "e4dc98c7-f6ca-4485-a6a1-36880dc2ccdc",
   "metadata": {},
   "outputs": [],
   "source": []
  },
  {
   "cell_type": "code",
   "execution_count": null,
   "id": "db795dd8-019a-4e36-8b7a-f029d5b194a6",
   "metadata": {},
   "outputs": [],
   "source": []
  },
  {
   "cell_type": "code",
   "execution_count": null,
   "id": "0ca5b26f-6070-4adf-9f0e-b43d7a7dfed9",
   "metadata": {},
   "outputs": [],
   "source": []
  },
  {
   "cell_type": "code",
   "execution_count": null,
   "id": "15100fde-fa8e-4834-b005-cfb164a35a5c",
   "metadata": {},
   "outputs": [],
   "source": []
  },
  {
   "cell_type": "code",
   "execution_count": 114,
   "id": "696cad0d-49f4-4739-bcef-5b158219e498",
   "metadata": {},
   "outputs": [
    {
     "name": "stdout",
     "output_type": "stream",
     "text": [
      "Optimization terminated successfully    (Exit mode 0)\n",
      "            Current function value: 2.9585996637284167e-08\n",
      "            Iterations: 1\n",
      "            Function evaluations: 2\n",
      "            Gradient evaluations: 1\n",
      "GCV\n",
      "===============================================================================\n",
      "                                     CVXPY                                     \n",
      "                                     v1.4.1                                    \n",
      "===============================================================================\n",
      "(CVXPY) Oct 23 04:52:55 AM: Your problem has 109 variables, 1 constraints, and 0 parameters.\n",
      "(CVXPY) Oct 23 04:52:55 AM: It is compliant with the following grammars: DCP, DQCP\n",
      "(CVXPY) Oct 23 04:52:55 AM: (If you need to solve this problem multiple times, but with different data, consider using parameters.)\n",
      "(CVXPY) Oct 23 04:52:55 AM: CVXPY will first compile your problem; then, it will invoke a numerical solver to obtain a solution.\n",
      "(CVXPY) Oct 23 04:52:55 AM: Your problem is compiled with the CPP canonicalization backend.\n",
      "-------------------------------------------------------------------------------\n",
      "                                  Compilation                                  \n",
      "-------------------------------------------------------------------------------\n",
      "(CVXPY) Oct 23 04:52:55 AM: Compiling problem (target solver=OSQP).\n",
      "(CVXPY) Oct 23 04:52:55 AM: Reduction chain: CvxAttr2Constr -> Qp2SymbolicQp -> QpMatrixStuffing -> OSQP\n",
      "(CVXPY) Oct 23 04:52:55 AM: Applying reduction CvxAttr2Constr\n",
      "(CVXPY) Oct 23 04:52:55 AM: Applying reduction Qp2SymbolicQp\n",
      "(CVXPY) Oct 23 04:52:55 AM: Applying reduction QpMatrixStuffing\n",
      "(CVXPY) Oct 23 04:52:55 AM: Applying reduction OSQP\n",
      "(CVXPY) Oct 23 04:52:55 AM: Finished problem compilation (took 1.595e-02 seconds).\n",
      "-------------------------------------------------------------------------------\n",
      "                                Numerical solver                               \n",
      "-------------------------------------------------------------------------------\n",
      "(CVXPY) Oct 23 04:52:55 AM: Invoking solver OSQP  to obtain a solution.\n",
      "-----------------------------------------------------------------\n",
      "           OSQP v0.6.3  -  Operator Splitting QP Solver\n",
      "              (c) Bartolomeo Stellato,  Goran Banjac\n",
      "        University of Oxford  -  Stanford University 2021\n",
      "-----------------------------------------------------------------\n",
      "problem:  variables n = 109, constraints m = 109\n",
      "          nnz(P) + nnz(A) = 6103\n",
      "settings: linear system solver = qdldl,\n",
      "          eps_abs = 1.0e-10, eps_rel = 1.0e-10,\n",
      "          eps_prim_inf = 1.0e-05, eps_dual_inf = 1.0e-05,\n",
      "          rho = 1.00e-01 (adaptive),\n",
      "          sigma = 1.00e-08, alpha = 1.60, max_iter = 200000\n",
      "          check_termination: on (interval 25),\n",
      "          scaling: on, scaled_termination: off\n",
      "          warm start: on, polish: on, time_limit: off\n",
      "\n",
      "iter   objective    pri res    dua res    rho        time\n",
      "   1  -1.1869e+00   3.44e-18   3.96e+01   1.00e-01   1.25e-03s\n",
      " 200  -1.6312e+00   5.18e-10   1.38e-04   1.08e-01   5.43e-03s\n",
      " 400  -1.6312e+00   8.45e-09   5.42e-06   5.88e-03   9.65e-03s\n",
      " 600  -1.6312e+00   5.88e-09   2.06e-06   5.88e-03   1.39e-02s\n",
      " 800  -1.6312e+00   2.71e-09   8.92e-07   5.88e-03   1.83e-02s\n",
      "1000  -1.6312e+00   1.20e-09   3.92e-07   5.88e-03   2.22e-02s\n",
      "1200  -1.6312e+00   5.31e-10   1.73e-07   5.88e-03   2.61e-02s\n",
      "1400  -1.6312e+00   2.34e-10   7.64e-08   5.88e-03   3.02e-02s\n",
      "1600  -1.6312e+00   1.03e-10   3.37e-08   5.88e-03   3.41e-02s\n",
      "1800  -1.6312e+00   4.57e-11   1.49e-08   5.88e-03   3.79e-02s\n",
      "2000  -1.6312e+00   2.02e-11   6.56e-09   5.88e-03   4.16e-02s\n",
      "plsh  -1.6312e+00   1.78e-17   1.77e-10   --------   4.23e-02s\n",
      "\n",
      "status:               solved\n",
      "solution polish:      successful\n",
      "number of iterations: 2000\n",
      "optimal objective:    -1.6312\n",
      "run time:             4.23e-02s\n",
      "optimal rho estimate: 5.67e-03\n",
      "\n",
      "-------------------------------------------------------------------------------\n",
      "                                    Summary                                    \n",
      "-------------------------------------------------------------------------------\n",
      "(CVXPY) Oct 23 04:52:55 AM: Problem status: optimal\n",
      "(CVXPY) Oct 23 04:52:55 AM: Optimal value: -1.631e+00\n",
      "(CVXPY) Oct 23 04:52:55 AM: Compilation took 1.595e-02 seconds\n",
      "(CVXPY) Oct 23 04:52:55 AM: Solver (including time spent in interface) took 4.681e-02 seconds\n"
     ]
    }
   ],
   "source": [
    "# Create an instance of the EIS_object class\n",
    "eis_data = EIS_object(freq, Z_prime, Z_double_prime)\n",
    "\n",
    "# Set the parameters using the 'entry' object\n",
    "eis_data.method = \"peak\"  # Set the method to 'peak'\n",
    "eis_data.der_used = '2nd order'  # Set the derivative order to '2nd order'\n",
    "eis_data.peak_method = 'combine'  # Set the peak method to 'combine'\n",
    "eis_data.N_peaks = 8  # Set the number of peaks to 8\n",
    "\n",
    "# Call the peak_analysis function with the modified 'eis_data' object\n",
    "entry = peak_analysis(eis_data)\n",
    "\n",
    "def peak_analysis(entry, rbf_type = 'Gaussian', data_used = 'Combined Re-Im Data', induct_used = 1, der_used = '1st order', cv_type = 'GCV', shape_control = 'FWHM Coefficient', coeff = 0.5, peak_method = 'separate', N_peaks=1):\n",
    " "
   ]
  },
  {
   "cell_type": "code",
   "execution_count": 115,
   "id": "3ce0e293-4822-400a-85df-94ea2f65541b",
   "metadata": {},
   "outputs": [],
   "source": [
    "out_tau_vec = entry.out_tau_vec\n",
    "gamma = entry.gamma\n",
    "gamma_fit = entry.out_gamma_fit\n",
    "N_peaks = entry.N_peaks "
   ]
  },
  {
   "cell_type": "code",
   "execution_count": 116,
   "id": "d50a2018-d73c-4d52-9825-3d5a0ef540ab",
   "metadata": {},
   "outputs": [
    {
     "data": {
      "text/plain": [
       "1"
      ]
     },
     "execution_count": 116,
     "metadata": {},
     "output_type": "execute_result"
    }
   ],
   "source": [
    "N_peaks"
   ]
  },
  {
   "cell_type": "code",
   "execution_count": null,
   "id": "babde188-c1bd-492e-ab97-f8210a2f846e",
   "metadata": {},
   "outputs": [],
   "source": []
  },
  {
   "cell_type": "code",
   "execution_count": null,
   "id": "60a0ab21-c5da-4252-a90d-bc9b757b5981",
   "metadata": {},
   "outputs": [],
   "source": []
  },
  {
   "cell_type": "code",
   "execution_count": null,
   "id": "5c12100a-6a34-49c2-860f-37ca504ff72e",
   "metadata": {},
   "outputs": [],
   "source": []
  },
  {
   "cell_type": "code",
   "execution_count": null,
   "id": "741b3305-ab2a-4315-9fff-aee0bd3e3bf5",
   "metadata": {},
   "outputs": [],
   "source": []
  },
  {
   "cell_type": "code",
   "execution_count": null,
   "id": "3fd9c479-1e6a-4032-b3a0-75f01b51296b",
   "metadata": {},
   "outputs": [],
   "source": []
  },
  {
   "cell_type": "code",
   "execution_count": null,
   "id": "0b4684e0-1506-438f-8e93-92a3332e8f6c",
   "metadata": {},
   "outputs": [],
   "source": []
  },
  {
   "cell_type": "code",
   "execution_count": null,
   "id": "1dacdd5e-993d-4f4b-8346-f24dda556d28",
   "metadata": {},
   "outputs": [],
   "source": []
  }
 ],
 "metadata": {
  "kernelspec": {
   "display_name": "Python 3 (ipykernel)",
   "language": "python",
   "name": "python3"
  },
  "language_info": {
   "codemirror_mode": {
    "name": "ipython",
    "version": 3
   },
   "file_extension": ".py",
   "mimetype": "text/x-python",
   "name": "python",
   "nbconvert_exporter": "python",
   "pygments_lexer": "ipython3",
   "version": "3.9.18"
  }
 },
 "nbformat": 4,
 "nbformat_minor": 5
}
